{
  "cells": [
    {
      "cell_type": "markdown",
      "metadata": {
        "id": "lfszjqA9hI9b"
      },
      "source": [
        "# PYTHON BASICS"
      ]
    },
    {
      "cell_type": "markdown",
      "metadata": {
        "id": "MvdEGnR8hxJk"
      },
      "source": [
        "Q. 1. What is Python and why is it popular?\n",
        "  - Python is a high-level programing language which is very popular among various fields like machine learning, artificial intelligence, web technologies, Data Science etc...  Python is popular programing language because of its unique features.\n",
        "    -  It is very easy to learn language compared to other languages.\n",
        "    - It supports Oops.\n",
        "    - It can easily integrate with all major databases.\n",
        "\n",
        "Q. 2. What is an interpreter in Python?\n",
        "  - Interpreter is a program which execute the code line by line. Python code is executed by one statement at a time method. It is a slow process compares to complier which translates code on a single run. Python doesn’t convert high level code into low level code as many other programing languages do rather it will scan the entire code and into something called bytecode.\n",
        "\n",
        "Q. 3. What are pre-defined keywords in Python?\n",
        "  - In Python, pre-defined keywords are reserved words that have special meanings and cannot be used as variable names, function names, or identifiers. Here are some examples:\n",
        "\n",
        "### Python Keywords\n",
        "1. True and False (Boolean values)\n",
        "2. None (null value)\n",
        "3. and, or, not (logical operators)\n",
        "4. if, elif, else (conditional statements)\n",
        "5. for, while (loops)\n",
        "6. break, continue (loop control)\n",
        "7. def (function definition)\n",
        "8. class (class definition)\n",
        "9. import (module import)\n",
        "10. try, except, finally (exception handling)\n",
        "11. with (context manager)\n",
        "12. lambda (anonymous function)\n",
        "13. global, nonlocal (variable scope)\n",
        "14. del (delete statement)\n",
        "15. assert (assertion statement)\n",
        "\n",
        "Q.4. Can keywords be used as variable names?\n",
        "  - No, keywords cannot be used as variable names because keywords are reserved words that have special meanings and use in python or any other programming language. Using keywords as variable names would lead to ambiguity and error in the code.\n",
        "\n",
        "Q.5. What is mutability in Python?\n",
        "  - In Python, mutability refers to the ability of an object to be modified after it's created. Its allow to change their value and data directly without affecting their identity.\n",
        "#####Mutable Objects\n",
        "1. Lists ([ ])\n",
        "2. Dictionaries ({ })\n",
        "3. Sets (set( ))\n",
        "\n",
        "Q.6. Why are lists mutable, but tuples are immutable?\n",
        "  - Both lists and tuples are used to store objects but according to their nature and function make them mutable and immutable.\n",
        "    - Lists are designed to be dynamic, allowing elements to be added, removed or modified as needed. lists are often used in situations where data needs to be manipulated, such as in data processing. Lists are implemented as dynamic arrays, which can resize themselves as elements are added or removed.\n",
        "    - Tuples are faster and more memory-efficient than lists because they are immutable, which allows Python to optimize their storage and access. Immutable tuples can be safely shared between threads without fear of one thread modifying the tuple and affecting other threads.Tuples can be used to represent constant or canonical data that should not be changed, ensuring code integrity and predictability.Tuples can be used as dictionary keys because they are immutable, which makes them hashable.\n",
        "\n",
        "Q.7. What is the difference between \"==\" and \"is\" operators in Python?\n",
        "  - \"==\" Operator (Equality)\n",
        "1. Value comparison: The \"==\" operator checks if the values of two objects are equal.\n",
        "2. Content check: It compares the contents of the objects, not their identities.\n",
        "\n",
        "  - \"is\" Operator (Identity)\n",
        "1. Identity comparison: The \"is\" operator checks if both variables refer to the same object in memory.\n",
        "2. Object identity check: It verifies if both variables point to the exact same object.\n",
        "\n",
        "  - Key Differences\n",
        "1. Value vs. Identity: \"==\" checks for value equality, while \"is\" checks for object identity.\n",
        "2. Usage: Use \"==\" for comparing values, and \"is\" for checking if two variables refer to the same object.\n",
        "\n",
        "  - Example\n",
        "\n",
        "    a = [1, 2, 3]\n",
        "\n",
        "    b = [1, 2, 3]\n",
        "\n",
        "    print(a == b)  # True (value equality)\n",
        "    \n",
        "    print(a is b)  # False (different objects in memory)\n",
        "\n",
        "Q.8. What are logical operators in Python?\n",
        "  - logical operators are essential for making decisions and controlling the flow of Python programs. combine true/false values by using the logical operator, which take true/false values as operands and compute new true/false values.\n",
        "  \n",
        "    - The three logical operators are:\n",
        "       1. and: Returns True if both conditions are true.\n",
        "       2. or: Returns True if at least one condition is true.\n",
        "       3. not: Returns the opposite of the condition (i.e., True becomes False and vice versa).\n",
        "\n",
        "    - Example\n",
        "    \n",
        "        x = 5\n",
        "\n",
        "        y = 10\n",
        "\n",
        "        print(x > 0 and y > 0)  # True\n",
        "\n",
        "        print(x > 0 or y < 0)   # True\n",
        "        \n",
        "        print(not x > 0)        # False\n",
        "\n",
        "Q.9. What is type casting in Python?\n",
        "  - Type casting is the process of converting an object from one data type to another.Type casting is useful when working with different data types, ensuring compatibility and correct results in Python programs.\n",
        "\n",
        "Q.10. What is the difference between implicit and explicit type casting?\n",
        "  - Python supports two types of type casting:\n",
        "\n",
        "    - Implicit Type Casting\n",
        "      1. Automatic conversion: Python automatically converts data types when necessary.\n",
        "      2. Example: int to float when performing arithmetic operations.\n",
        "\n",
        "    - Explicit Type Casting\n",
        "      1. Manual conversion: Developers use functions to explicitly convert data types.\n",
        "      2. Functions:\n",
        "      - int(): Converts to integer.\n",
        "      - float(): Converts to floating-point number.\n",
        "      - str(): Converts to string.\n",
        "      - bool(): Converts to boolean.\n",
        "\n",
        "    - Example Usage\n",
        "\n",
        "      x = 8\n",
        "\n",
        "      y = float(x)  \"Explicit type casting to float\"\n",
        "      \n",
        "      print(y)  \n",
        "      Output: 8.0\n",
        "\n",
        "Q.11. What is the purpose of conditional statements in Python?\n",
        "  - Purpose of Conditional Statements is to Make decisions based on conditions or rules, code can choose different paths to execute. Conditional statements used to control the flow of code it determine which block of code to execute, depending on the condition. With conditional statement we can handle different scenarios it help to write code that responds to various situations, make program more flexible and robust. By using conditional statement we can make code more logical and efficient.\n",
        "\n",
        "Types of Conditional Statements\n",
        "1. if statement: Executes code if a condition is true.\n",
        "2. elif statement: Checks another condition if the initial condition is false.\n",
        "3. else statement: Executes code if all conditions are false.\n",
        "\n",
        "Example Usage\n",
        "\n",
        "x = 5\n",
        "\n",
        "if x > 10:\n",
        "\n",
        "    print(\"x is greater than 10\")\n",
        "\n",
        "elif x == 5:\n",
        "\n",
        "    print(\"x is equal to 5\")\n",
        "\n",
        "else:\n",
        "\n",
        "    print(\"x is less than 5\")\n",
        "\n",
        "    Outpu: X is equal to 5\n",
        "\n",
        "Q.12. How does the elif statement work?\n",
        "\n",
        "  - The \"elif\" statement is used to check another condition if the initial \"if\" condition is false.\n",
        "  The if statement checks the first condition. If the initial condition is false, then elif statement checks its condition. If the elif condition is true, the code inside the elif block is executed and any remaining elif or else blocks are skipped.\n",
        "\n",
        "  Syntax:\n",
        "\n",
        "  if condition:\n",
        "    \n",
        "    expression\n",
        "  \n",
        "  elif condition:\n",
        "    \n",
        "    expression\n",
        "  \n",
        "  else:\n",
        "    \n",
        "    expression\n",
        "\n",
        "Q.13. What is the difference between for and while loops?\n",
        "  -     The for loop is used when it's known in advance that how many times the block of code is to be executed. It iterates over a sequence (e.g., a list, tuple, string, or range) and executes the block of code for each item in the sequence. The loop variable (variable) takes the value of each item in the sequence during each iteration. Its initialization is part of the loop syntax.\n",
        "\n",
        "  Syntax:\n",
        "  \n",
        "  for i in range(5):\n",
        "  \n",
        "  print(i)\n",
        "\n",
        "  -     The while loop is used when it's not known in advance how many times  the block of code is to be executed. It continues to execute as long as the specified condition is true. It's important to make sure that the condition eventually becomes false; otherwise, the loop will run indefinitely, resulting in an infinite loop.\n",
        "\n",
        "  Syntax:\n",
        "\n",
        "  count = 0\n",
        "  \n",
        "  while count < 5:\n",
        "  \n",
        "  print(count)\n",
        "  \n",
        "  count += 1\n",
        "\n",
        "Q.14. Describe a scenario where a while loop is more suitable than a for loop.\n",
        "  - While loop best used when we don't know the number of iterations in advance. Suppose we write a code where we get some random words from user and print them in reverse sequence. Here's the while loop is more suitable than a for loop because we don't know the lenght of word which is entered by the user."
      ]
    },
    {
      "cell_type": "code",
      "execution_count": null,
      "metadata": {
        "colab": {
          "base_uri": "https://localhost:8080/"
        },
        "id": "HE1jXG3e7usz",
        "outputId": "67672b63-c75b-4097-f24d-d198fe5bd96d"
      },
      "outputs": [
        {
          "name": "stdout",
          "output_type": "stream",
          "text": [
            "Hello, World!\n"
          ]
        }
      ],
      "source": [
        "#Q.1 Write a Python program to print \"Hello, World!\"\n",
        "print(\"Hello, World!\")\n"
      ]
    },
    {
      "cell_type": "code",
      "execution_count": null,
      "metadata": {
        "colab": {
          "base_uri": "https://localhost:8080/"
        },
        "id": "eVRRRkDx9ZFk",
        "outputId": "2619594c-cc4d-4de1-8445-caa9479b76b9"
      },
      "outputs": [
        {
          "name": "stdout",
          "output_type": "stream",
          "text": [
            "Enter your name: sandeep\n",
            "Enter your age: 28\n",
            "Name:  sandeep\n",
            "age:  28\n"
          ]
        }
      ],
      "source": [
        "# Q.2 Write a Python programe that displays your name and age.\n",
        "name = input(\"Enter your name: \")\n",
        "age = int(input(\"Enter your age: \"))\n",
        "print(\"Name: \", name)\n",
        "print(\"age: \", age)\n"
      ]
    },
    {
      "cell_type": "code",
      "execution_count": null,
      "metadata": {
        "colab": {
          "base_uri": "https://localhost:8080/"
        },
        "id": "CJYeaR4t-bFd",
        "outputId": "dfdfc583-2fb0-4d81-8c9e-57f0499debb6"
      },
      "outputs": [
        {
          "name": "stdout",
          "output_type": "stream",
          "text": [
            "['False', 'None', 'True', 'and', 'as', 'assert', 'async', 'await', 'break', 'class', 'continue', 'def', 'del', 'elif', 'else', 'except', 'finally', 'for', 'from', 'global', 'if', 'import', 'in', 'is', 'lambda', 'nonlocal', 'not', 'or', 'pass', 'raise', 'return', 'try', 'while', 'with', 'yield']\n"
          ]
        }
      ],
      "source": [
        "# Q.3 Write code to print all the pre-defined keywords in python using the keyword library.\n",
        "import keyword\n",
        "print(keyword.kwlist)"
      ]
    },
    {
      "cell_type": "code",
      "execution_count": null,
      "metadata": {
        "colab": {
          "base_uri": "https://localhost:8080/"
        },
        "id": "9GaMU-F4_v_Q",
        "outputId": "6637da37-2439-48ca-e86f-838212b5f0da"
      },
      "outputs": [
        {
          "name": "stdout",
          "output_type": "stream",
          "text": [
            "Enter a word: None\n",
            "None is a Python keyword.\n"
          ]
        }
      ],
      "source": [
        "# Q.4 Write a program that checks if a given word is a python keyword.\n",
        "import keyword\n",
        "word = input(\"Enter a word: \")\n",
        "if keyword.iskeyword(word):\n",
        "    print(f\"{word} is a Python keyword.\")\n",
        "else:\n",
        "    print(f\"{word} is not a Python keyword.\")"
      ]
    },
    {
      "cell_type": "code",
      "execution_count": null,
      "metadata": {
        "colab": {
          "base_uri": "https://localhost:8080/",
          "height": 211
        },
        "id": "I42IUHfiAhUX",
        "outputId": "9cd1cbb4-49b3-4888-b9cd-6b6681316161"
      },
      "outputs": [
        {
          "name": "stdout",
          "output_type": "stream",
          "text": [
            "[4, 2, 3]\n"
          ]
        },
        {
          "ename": "TypeError",
          "evalue": "'tuple' object does not support item assignment",
          "output_type": "error",
          "traceback": [
            "\u001b[0;31m---------------------------------------------------------------------------\u001b[0m",
            "\u001b[0;31mTypeError\u001b[0m                                 Traceback (most recent call last)",
            "\u001b[0;32m<ipython-input-14-f4e27f433143>\u001b[0m in \u001b[0;36m<cell line: 0>\u001b[0;34m()\u001b[0m\n\u001b[1;32m      4\u001b[0m \u001b[0ma\u001b[0m\u001b[0;34m[\u001b[0m\u001b[0;36m0\u001b[0m\u001b[0;34m]\u001b[0m\u001b[0;34m=\u001b[0m\u001b[0;36m4\u001b[0m\u001b[0;34m\u001b[0m\u001b[0;34m\u001b[0m\u001b[0m\n\u001b[1;32m      5\u001b[0m \u001b[0mprint\u001b[0m\u001b[0;34m(\u001b[0m\u001b[0ma\u001b[0m\u001b[0;34m)\u001b[0m\u001b[0;34m\u001b[0m\u001b[0;34m\u001b[0m\u001b[0m\n\u001b[0;32m----> 6\u001b[0;31m \u001b[0mb\u001b[0m\u001b[0;34m[\u001b[0m\u001b[0;36m0\u001b[0m\u001b[0;34m]\u001b[0m\u001b[0;34m=\u001b[0m\u001b[0;36m4\u001b[0m\u001b[0;34m\u001b[0m\u001b[0;34m\u001b[0m\u001b[0m\n\u001b[0m\u001b[1;32m      7\u001b[0m \u001b[0mprint\u001b[0m\u001b[0;34m(\u001b[0m\u001b[0mb\u001b[0m\u001b[0;34m)\u001b[0m\u001b[0;34m\u001b[0m\u001b[0;34m\u001b[0m\u001b[0m\n",
            "\u001b[0;31mTypeError\u001b[0m: 'tuple' object does not support item assignment"
          ]
        }
      ],
      "source": [
        "# Q.5 Create a list and tuple in Python, and demonstrate how attempting to change an element works differently for each.\n",
        "a=[1,2,3]\n",
        "b=(1,2,3)\n",
        "a[0]=4\n",
        "print(a)\n",
        "b[0]=4\n",
        "print(b)\n"
      ]
    },
    {
      "cell_type": "code",
      "execution_count": null,
      "metadata": {
        "colab": {
          "base_uri": "https://localhost:8080/"
        },
        "id": "bsmcLciBBttT",
        "outputId": "c8737b6a-095d-4e91-efaf-f97acb0c4b42"
      },
      "outputs": [
        {
          "name": "stdout",
          "output_type": "stream",
          "text": [
            "Before function call:\n",
            "x = [5, 1, 3]\n",
            "y = 5\n",
            "z = Hello\n",
            "Inside function list = [5, 1, 3, 4]\n",
            "Inside function num = 15\n",
            "Inside function string = Hello World\n",
            "\n",
            "After function call:\n",
            "x = [5, 1, 3, 4]\n",
            "y = 5\n",
            "z = Hello\n"
          ]
        }
      ],
      "source": [
        "# Q.6 Write a function to demostrate the behaviour of mutable and immutable arguments.\n",
        "def demo_mutable_immutable(list, num, string):\n",
        "    list.append(4)\n",
        "    print(\"Inside function list =\", list)\n",
        "    num += 10\n",
        "    print(\"Inside function num =\", num)\n",
        "    string += \" World\"\n",
        "    print(\"Inside function string =\", string)\n",
        "\n",
        "# Test the function\n",
        "x = [5,1,3]\n",
        "y = 5\n",
        "z = \"Hello\"\n",
        "\n",
        "print(\"Before function call:\")\n",
        "print(\"x =\", x)\n",
        "print(\"y =\", y)\n",
        "print(\"z =\", z)\n",
        "\n",
        "demo_mutable_immutable(x, y, z)\n",
        "\n",
        "print(\"\\nAfter function call:\")\n",
        "print(\"x =\", x)\n",
        "print(\"y =\", y)\n",
        "print(\"z =\", z)\n"
      ]
    },
    {
      "cell_type": "code",
      "execution_count": null,
      "metadata": {
        "colab": {
          "base_uri": "https://localhost:8080/"
        },
        "id": "u3t-CXV3Gxnc",
        "outputId": "6edff16e-3a46-4148-cf33-7028b817f16d"
      },
      "outputs": [
        {
          "name": "stdout",
          "output_type": "stream",
          "text": [
            "Enter 1st no: 14\n",
            "Enter 2nd no: 8\n",
            "addition:  22\n",
            "multiplication:  112\n",
            "division:  1.75\n",
            "subtraction:  6\n"
          ]
        }
      ],
      "source": [
        "# Q.7 Write a program that performs basic arithmentic operations on two user-input numbers.\n",
        "a=int(input(\"Enter 1st no: \"))\n",
        "b=int(input(\"Enter 2nd no: \"))\n",
        "print(\"addition: \", a+b)\n",
        "print(\"multiplication: \", a*b)\n",
        "print(\"division: \", a/b)\n",
        "print(\"subtraction: \", a-b)"
      ]
    },
    {
      "cell_type": "code",
      "execution_count": null,
      "metadata": {
        "colab": {
          "base_uri": "https://localhost:8080/"
        },
        "id": "xetMppWcHx5T",
        "outputId": "eea63a5d-eddd-4be4-8ab5-5eaed35f84ec"
      },
      "outputs": [
        {
          "name": "stdout",
          "output_type": "stream",
          "text": [
            "False\n",
            "True\n",
            "False\n"
          ]
        }
      ],
      "source": [
        "# Q.8 Write a program to demonstrate the use of logical operators.\n",
        "a=5\n",
        "b=7\n",
        "print(a>0 and b<0)\n",
        "print(a>0 or b<0)\n",
        "print(not a>0)"
      ]
    },
    {
      "cell_type": "code",
      "execution_count": null,
      "metadata": {
        "colab": {
          "base_uri": "https://localhost:8080/"
        },
        "id": "U2eeBl-LHFrs",
        "outputId": "482b25c0-c1fa-4b4a-e3a0-96d8816a7724"
      },
      "outputs": [
        {
          "name": "stdout",
          "output_type": "stream",
          "text": [
            "Enter a string: 123\n",
            "123\n",
            "123.0\n",
            "True\n"
          ]
        }
      ],
      "source": [
        "# Q.9 Write a python program to covert user input from string to integer, float, and boolean types.\n",
        "a=input(\"Enter a string: \")\n",
        "print(int(a))\n",
        "print(float(a))\n",
        "print(bool(a))"
      ]
    },
    {
      "cell_type": "code",
      "execution_count": null,
      "metadata": {
        "colab": {
          "base_uri": "https://localhost:8080/"
        },
        "id": "lClsg--vJuE4",
        "outputId": "b1ae5373-a3af-4d67-d88b-ae0a9d16766b"
      },
      "outputs": [
        {
          "name": "stdout",
          "output_type": "stream",
          "text": [
            "1\n",
            "3.0\n",
            "True\n"
          ]
        }
      ],
      "source": [
        "# Q.10 Write code to demonstrate type casting with list elements.\n",
        "a=[1,2,3,5]\n",
        "print(int(a[0]))\n",
        "print(float(a[2]))\n",
        "print(bool(a[3]))\n"
      ]
    },
    {
      "cell_type": "code",
      "execution_count": null,
      "metadata": {
        "colab": {
          "base_uri": "https://localhost:8080/"
        },
        "id": "O7MFhYOHKzwf",
        "outputId": "cc58e427-47e3-4a87-8969-95b8eee05843"
      },
      "outputs": [
        {
          "name": "stdout",
          "output_type": "stream",
          "text": [
            "Enter a number: 5\n",
            "Number is positive\n"
          ]
        }
      ],
      "source": [
        "# Q.11 Write a program that checks if a number is positive, negative, or zero.\n",
        "a=int(input(\"Enter a number: \"))\n",
        "if a>0:\n",
        "    print(\"Number is positive\")\n",
        "elif a<0:\n",
        "    print(\"Number is negative\")\n",
        "else:\n",
        "    print(\"Number is zero\")"
      ]
    },
    {
      "cell_type": "code",
      "execution_count": null,
      "metadata": {
        "colab": {
          "base_uri": "https://localhost:8080/"
        },
        "id": "cr-5ipmKLQsa",
        "outputId": "fa6e7111-a968-4ef0-ed91-276900d56abb"
      },
      "outputs": [
        {
          "name": "stdout",
          "output_type": "stream",
          "text": [
            "1\n",
            "2\n",
            "3\n",
            "4\n",
            "5\n",
            "6\n",
            "7\n",
            "8\n",
            "9\n",
            "10\n"
          ]
        }
      ],
      "source": [
        "# Q.12 Write a for loop to print numbers from 1 to 10.\n",
        "for i in range(1, 11):\n",
        "    print(i)"
      ]
    },
    {
      "cell_type": "code",
      "execution_count": null,
      "metadata": {
        "colab": {
          "base_uri": "https://localhost:8080/"
        },
        "id": "NcieMZ-QQniR",
        "outputId": "b008e0dd-5660-4631-9ec0-1ed70da9d8ab"
      },
      "outputs": [
        {
          "name": "stdout",
          "output_type": "stream",
          "text": [
            "2\n",
            "6\n",
            "12\n",
            "20\n",
            "30\n",
            "42\n",
            "56\n",
            "72\n",
            "90\n",
            "110\n",
            "132\n",
            "156\n",
            "182\n",
            "210\n",
            "240\n",
            "272\n",
            "306\n",
            "342\n",
            "380\n",
            "420\n",
            "462\n",
            "506\n",
            "552\n",
            "600\n",
            "650\n"
          ]
        }
      ],
      "source": [
        "# Q.13 Write a Python program to find the sum of all even numbers betweeen 1 and 50.\n",
        "for i in range(1, 51):\n",
        "    if i%2==0:\n",
        "        a += i\n",
        "        print(a)"
      ]
    },
    {
      "cell_type": "code",
      "execution_count": null,
      "metadata": {
        "colab": {
          "base_uri": "https://localhost:8080/"
        },
        "id": "V982OaZSQ_KD",
        "outputId": "708bc4d2-22f1-4519-b98a-ff15062b5890"
      },
      "outputs": [
        {
          "output_type": "stream",
          "name": "stdout",
          "text": [
            "Enter a String: sandeep\n",
            "Orignal String:  sandeep\n",
            "Reversed string:  peednas "
          ]
        }
      ],
      "source": [
        "# Q.14 Write a program to reverse a string using a while loop.\n",
        "def reverse_string(a):\n",
        "    a=input(\"Enter a String: \")\n",
        "    print(\"Orignal String: \", a)\n",
        "    i = len(a) - 1\n",
        "    reversed_string = \"\"\n",
        "    while i >= 0:\n",
        "        reversed_string += a[i]\n",
        "        i -= 1\n",
        "    return reversed_string\n",
        "\n",
        "print(\"Reversed string: \", reverse_string(\"\"), end=\" \")\n"
      ]
    },
    {
      "cell_type": "code",
      "source": [
        "# Q.15 Write a Python program to calculate the factorial of a number provided by the user using a while loop.\n",
        "\n",
        "def calculate_factorial(n):\n",
        "    factorial = 1\n",
        "    i = 1\n",
        "    while i <= n:\n",
        "        factorial *= i\n",
        "        i += 1\n",
        "    return factorial\n",
        "\n",
        "# Get user input\n",
        "num = int(input(\"Enter a number: \"))\n",
        "\n",
        "# Check if number is negative\n",
        "if num < 0:\n",
        "    print(\"Factorial is not defined for negative numbers.\")\n",
        "else:\n",
        "    print(\"Factorial of\", num, \"is:\", calculate_factorial(n))"
      ],
      "metadata": {
        "id": "q3D-Licbi7ce",
        "colab": {
          "base_uri": "https://localhost:8080/"
        },
        "outputId": "28ffb8a6-adfb-4140-a031-ad07f6234110"
      },
      "execution_count": null,
      "outputs": [
        {
          "output_type": "stream",
          "name": "stdout",
          "text": [
            "Enter a number: 5\n",
            "Factorial of 5 is: 120\n"
          ]
        }
      ]
    }
  ],
  "metadata": {
    "colab": {
      "provenance": []
    },
    "kernelspec": {
      "display_name": "Python 3",
      "name": "python3"
    },
    "language_info": {
      "name": "python"
    }
  },
  "nbformat": 4,
  "nbformat_minor": 0
}